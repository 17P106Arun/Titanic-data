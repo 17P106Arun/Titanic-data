{
 "cells": [
  {
   "cell_type": "markdown",
   "metadata": {},
   "source": [
    "### Titanic Disaster Survival Predictiontion \n",
    "\n",
    "ARUNPRASATH P \n",
    "\n",
    "\n",
    "Step 1: Collecting Data \n",
    "Step 2: Exploring & Preparing the Data \n",
    "Step 3: Model Training for Data \n",
    "Step 4: Model Performance Evaluation \n",
    "Step 5: Saving prediction in csv file \n",
    "Conclusion \n",
    "#### Data Handling\n",
    "*   Importing Data with Pandas\n",
    "*   Cleaning Data\n",
    "*   Exploring Data through Visualizations with Matplotlib\n",
    "\n",
    "#### Data Analysis\n",
    "*    Supervised Machine learning Techniques:\n",
    "    +   Logit Regression Model \n",
    "    +   Plotting results\n",
    "    +   Support Vector Machine (SVM) using 3 kernels\n",
    "    +   Basic Random Forest\n",
    "    +   Plotting results\n",
    "\n",
    "#### Valuation of the Analysis\n",
    "*   K-folds cross validation to valuate results locally\n",
    "*   Output the results from the IPython Notebook to Kaggle\n",
    "\n",
    "\n",
    "\n",
    "#### Required Libraries:\n",
    "* [NumPy](http://www.numpy.org/)\n",
    "* [IPython](http://ipython.org/)\n",
    "* [Pandas](http://pandas.pydata.org/)\n",
    "* [SciKit-Learn](http://scikit-learn.org/stable/)\n",
    "* [SciPy](http://www.scipy.org/)\n",
    "* [StatsModels](http://statsmodels.sourceforge.net/)\n",
    "* [Patsy](http://patsy.readthedocs.org/en/latest/)\n",
    "* [Matplotlib](http://matplotlib.org/)\n",
    "\n",
    "***To run this notebook interactively, get it from my Github [here](https://github.com/agconti/kaggle-titanic). The competition's website is located on [Kaggle.com](http://www.kaggle.com/c/titanic-gettingStarted).***"
   ]
  },
  {
   "cell_type": "code",
   "execution_count": 3,
   "metadata": {},
   "outputs": [],
   "source": [
    "#import the dataset\n",
    "dataset = read.csv(\"https://raw.githubusercontent.com/guru99-edu/R-Programming/master/titanic_data.csv\")"
   ]
  },
  {
   "cell_type": "code",
   "execution_count": 5,
   "metadata": {},
   "outputs": [
    {
     "data": {
      "text/html": [
       "<table>\n",
       "<caption>A data.frame: 6 × 13</caption>\n",
       "<thead>\n",
       "\t<tr><th></th><th scope=col>x</th><th scope=col>pclass</th><th scope=col>survived</th><th scope=col>name</th><th scope=col>sex</th><th scope=col>age</th><th scope=col>sibsp</th><th scope=col>parch</th><th scope=col>ticket</th><th scope=col>fare</th><th scope=col>cabin</th><th scope=col>embarked</th><th scope=col>home.dest</th></tr>\n",
       "\t<tr><th></th><th scope=col>&lt;int&gt;</th><th scope=col>&lt;int&gt;</th><th scope=col>&lt;int&gt;</th><th scope=col>&lt;fct&gt;</th><th scope=col>&lt;fct&gt;</th><th scope=col>&lt;fct&gt;</th><th scope=col>&lt;int&gt;</th><th scope=col>&lt;int&gt;</th><th scope=col>&lt;fct&gt;</th><th scope=col>&lt;fct&gt;</th><th scope=col>&lt;fct&gt;</th><th scope=col>&lt;fct&gt;</th><th scope=col>&lt;fct&gt;</th></tr>\n",
       "</thead>\n",
       "<tbody>\n",
       "\t<tr><th scope=row>1</th><td>1</td><td>1</td><td>1</td><td>Allen, Miss. Elisabeth Walton                  </td><td>female</td><td>29    </td><td>0</td><td>0</td><td>24160 </td><td>211.3375</td><td>B5     </td><td>S</td><td>St Louis, MO                   </td></tr>\n",
       "\t<tr><th scope=row>2</th><td>2</td><td>1</td><td>1</td><td>Allison, Master. Hudson Trevor                 </td><td>male  </td><td>0.9167</td><td>1</td><td>2</td><td>113781</td><td>151.55  </td><td>C22 C26</td><td>S</td><td>Montreal, PQ / Chesterville, ON</td></tr>\n",
       "\t<tr><th scope=row>3</th><td>3</td><td>1</td><td>0</td><td>Allison, Miss. Helen Loraine                   </td><td>female</td><td>2     </td><td>1</td><td>2</td><td>113781</td><td>151.55  </td><td>C22 C26</td><td>S</td><td>Montreal, PQ / Chesterville, ON</td></tr>\n",
       "\t<tr><th scope=row>4</th><td>4</td><td>1</td><td>0</td><td>Allison, Mr. Hudson Joshua Creighton           </td><td>male  </td><td>30    </td><td>1</td><td>2</td><td>113781</td><td>151.55  </td><td>C22 C26</td><td>S</td><td>Montreal, PQ / Chesterville, ON</td></tr>\n",
       "\t<tr><th scope=row>5</th><td>5</td><td>1</td><td>0</td><td>Allison, Mrs. Hudson J C (Bessie Waldo Daniels)</td><td>female</td><td>25    </td><td>1</td><td>2</td><td>113781</td><td>151.55  </td><td>C22 C26</td><td>S</td><td>Montreal, PQ / Chesterville, ON</td></tr>\n",
       "\t<tr><th scope=row>6</th><td>6</td><td>1</td><td>1</td><td>Anderson, Mr. Harry                            </td><td>male  </td><td>48    </td><td>0</td><td>0</td><td>19952 </td><td>26.55   </td><td>E12    </td><td>S</td><td>New York, NY                   </td></tr>\n",
       "</tbody>\n",
       "</table>\n"
      ],
      "text/latex": [
       "A data.frame: 6 × 13\n",
       "\\begin{tabular}{r|lllllllllllll}\n",
       "  & x & pclass & survived & name & sex & age & sibsp & parch & ticket & fare & cabin & embarked & home.dest\\\\\n",
       "  & <int> & <int> & <int> & <fct> & <fct> & <fct> & <int> & <int> & <fct> & <fct> & <fct> & <fct> & <fct>\\\\\n",
       "\\hline\n",
       "\t1 & 1 & 1 & 1 & Allen, Miss. Elisabeth Walton                   & female & 29     & 0 & 0 & 24160  & 211.3375 & B5      & S & St Louis, MO                   \\\\\n",
       "\t2 & 2 & 1 & 1 & Allison, Master. Hudson Trevor                  & male   & 0.9167 & 1 & 2 & 113781 & 151.55   & C22 C26 & S & Montreal, PQ / Chesterville, ON\\\\\n",
       "\t3 & 3 & 1 & 0 & Allison, Miss. Helen Loraine                    & female & 2      & 1 & 2 & 113781 & 151.55   & C22 C26 & S & Montreal, PQ / Chesterville, ON\\\\\n",
       "\t4 & 4 & 1 & 0 & Allison, Mr. Hudson Joshua Creighton            & male   & 30     & 1 & 2 & 113781 & 151.55   & C22 C26 & S & Montreal, PQ / Chesterville, ON\\\\\n",
       "\t5 & 5 & 1 & 0 & Allison, Mrs. Hudson J C (Bessie Waldo Daniels) & female & 25     & 1 & 2 & 113781 & 151.55   & C22 C26 & S & Montreal, PQ / Chesterville, ON\\\\\n",
       "\t6 & 6 & 1 & 1 & Anderson, Mr. Harry                             & male   & 48     & 0 & 0 & 19952  & 26.55    & E12     & S & New York, NY                   \\\\\n",
       "\\end{tabular}\n"
      ],
      "text/markdown": [
       "\n",
       "A data.frame: 6 × 13\n",
       "\n",
       "| <!--/--> | x &lt;int&gt; | pclass &lt;int&gt; | survived &lt;int&gt; | name &lt;fct&gt; | sex &lt;fct&gt; | age &lt;fct&gt; | sibsp &lt;int&gt; | parch &lt;int&gt; | ticket &lt;fct&gt; | fare &lt;fct&gt; | cabin &lt;fct&gt; | embarked &lt;fct&gt; | home.dest &lt;fct&gt; |\n",
       "|---|---|---|---|---|---|---|---|---|---|---|---|---|---|\n",
       "| 1 | 1 | 1 | 1 | Allen, Miss. Elisabeth Walton                   | female | 29     | 0 | 0 | 24160  | 211.3375 | B5      | S | St Louis, MO                    |\n",
       "| 2 | 2 | 1 | 1 | Allison, Master. Hudson Trevor                  | male   | 0.9167 | 1 | 2 | 113781 | 151.55   | C22 C26 | S | Montreal, PQ / Chesterville, ON |\n",
       "| 3 | 3 | 1 | 0 | Allison, Miss. Helen Loraine                    | female | 2      | 1 | 2 | 113781 | 151.55   | C22 C26 | S | Montreal, PQ / Chesterville, ON |\n",
       "| 4 | 4 | 1 | 0 | Allison, Mr. Hudson Joshua Creighton            | male   | 30     | 1 | 2 | 113781 | 151.55   | C22 C26 | S | Montreal, PQ / Chesterville, ON |\n",
       "| 5 | 5 | 1 | 0 | Allison, Mrs. Hudson J C (Bessie Waldo Daniels) | female | 25     | 1 | 2 | 113781 | 151.55   | C22 C26 | S | Montreal, PQ / Chesterville, ON |\n",
       "| 6 | 6 | 1 | 1 | Anderson, Mr. Harry                             | male   | 48     | 0 | 0 | 19952  | 26.55    | E12     | S | New York, NY                    |\n",
       "\n"
      ],
      "text/plain": [
       "  x pclass survived name                                            sex   \n",
       "1 1 1      1        Allen, Miss. Elisabeth Walton                   female\n",
       "2 2 1      1        Allison, Master. Hudson Trevor                  male  \n",
       "3 3 1      0        Allison, Miss. Helen Loraine                    female\n",
       "4 4 1      0        Allison, Mr. Hudson Joshua Creighton            male  \n",
       "5 5 1      0        Allison, Mrs. Hudson J C (Bessie Waldo Daniels) female\n",
       "6 6 1      1        Anderson, Mr. Harry                             male  \n",
       "  age    sibsp parch ticket fare     cabin   embarked\n",
       "1 29     0     0     24160  211.3375 B5      S       \n",
       "2 0.9167 1     2     113781 151.55   C22 C26 S       \n",
       "3 2      1     2     113781 151.55   C22 C26 S       \n",
       "4 30     1     2     113781 151.55   C22 C26 S       \n",
       "5 25     1     2     113781 151.55   C22 C26 S       \n",
       "6 48     0     0     19952  26.55    E12     S       \n",
       "  home.dest                      \n",
       "1 St Louis, MO                   \n",
       "2 Montreal, PQ / Chesterville, ON\n",
       "3 Montreal, PQ / Chesterville, ON\n",
       "4 Montreal, PQ / Chesterville, ON\n",
       "5 Montreal, PQ / Chesterville, ON\n",
       "6 New York, NY                   "
      ]
     },
     "metadata": {},
     "output_type": "display_data"
    }
   ],
   "source": [
    "#first 6 rows of dataset\n",
    "head(dataset)"
   ]
  },
  {
   "cell_type": "code",
   "execution_count": 6,
   "metadata": {},
   "outputs": [
    {
     "data": {
      "text/html": [
       "<style>\n",
       ".list-inline {list-style: none; margin:0; padding: 0}\n",
       ".list-inline>li {display: inline-block}\n",
       ".list-inline>li:not(:last-child)::after {content: \"\\00b7\"; padding: 0 .5ex}\n",
       "</style>\n",
       "<ol class=list-inline><li>'x'</li><li>'pclass'</li><li>'survived'</li><li>'name'</li><li>'sex'</li><li>'age'</li><li>'sibsp'</li><li>'parch'</li><li>'ticket'</li><li>'fare'</li><li>'cabin'</li><li>'embarked'</li><li>'home.dest'</li></ol>\n"
      ],
      "text/latex": [
       "\\begin{enumerate*}\n",
       "\\item 'x'\n",
       "\\item 'pclass'\n",
       "\\item 'survived'\n",
       "\\item 'name'\n",
       "\\item 'sex'\n",
       "\\item 'age'\n",
       "\\item 'sibsp'\n",
       "\\item 'parch'\n",
       "\\item 'ticket'\n",
       "\\item 'fare'\n",
       "\\item 'cabin'\n",
       "\\item 'embarked'\n",
       "\\item 'home.dest'\n",
       "\\end{enumerate*}\n"
      ],
      "text/markdown": [
       "1. 'x'\n",
       "2. 'pclass'\n",
       "3. 'survived'\n",
       "4. 'name'\n",
       "5. 'sex'\n",
       "6. 'age'\n",
       "7. 'sibsp'\n",
       "8. 'parch'\n",
       "9. 'ticket'\n",
       "10. 'fare'\n",
       "11. 'cabin'\n",
       "12. 'embarked'\n",
       "13. 'home.dest'\n",
       "\n",
       "\n"
      ],
      "text/plain": [
       " [1] \"x\"         \"pclass\"    \"survived\"  \"name\"      \"sex\"       \"age\"      \n",
       " [7] \"sibsp\"     \"parch\"     \"ticket\"    \"fare\"      \"cabin\"     \"embarked\" \n",
       "[13] \"home.dest\""
      ]
     },
     "metadata": {},
     "output_type": "display_data"
    }
   ],
   "source": [
    "#column names in dataset\n",
    "colnames(dataset)"
   ]
  },
  {
   "cell_type": "code",
   "execution_count": 7,
   "metadata": {},
   "outputs": [
    {
     "data": {
      "text/html": [
       "<table>\n",
       "<caption>A data.frame: 6 × 13</caption>\n",
       "<thead>\n",
       "\t<tr><th></th><th scope=col>x</th><th scope=col>pclass</th><th scope=col>survived</th><th scope=col>name</th><th scope=col>sex</th><th scope=col>age</th><th scope=col>sibsp</th><th scope=col>parch</th><th scope=col>ticket</th><th scope=col>fare</th><th scope=col>cabin</th><th scope=col>embarked</th><th scope=col>home.dest</th></tr>\n",
       "\t<tr><th></th><th scope=col>&lt;int&gt;</th><th scope=col>&lt;int&gt;</th><th scope=col>&lt;int&gt;</th><th scope=col>&lt;fct&gt;</th><th scope=col>&lt;fct&gt;</th><th scope=col>&lt;fct&gt;</th><th scope=col>&lt;int&gt;</th><th scope=col>&lt;int&gt;</th><th scope=col>&lt;fct&gt;</th><th scope=col>&lt;fct&gt;</th><th scope=col>&lt;fct&gt;</th><th scope=col>&lt;fct&gt;</th><th scope=col>&lt;fct&gt;</th></tr>\n",
       "</thead>\n",
       "<tbody>\n",
       "\t<tr><th scope=row>1304</th><td>1304</td><td>3</td><td>0</td><td>Yousseff, Mr. Gerious    </td><td>male  </td><td>?   </td><td>0</td><td>0</td><td>2627  </td><td>14.4583</td><td>?</td><td>C</td><td>?</td></tr>\n",
       "\t<tr><th scope=row>1305</th><td>1305</td><td>3</td><td>0</td><td>Zabour, Miss. Hileni     </td><td>female</td><td>14.5</td><td>1</td><td>0</td><td>2665  </td><td>14.4542</td><td>?</td><td>C</td><td>?</td></tr>\n",
       "\t<tr><th scope=row>1306</th><td>1306</td><td>3</td><td>0</td><td>Zabour, Miss. Thamine    </td><td>female</td><td>?   </td><td>1</td><td>0</td><td>2665  </td><td>14.4542</td><td>?</td><td>C</td><td>?</td></tr>\n",
       "\t<tr><th scope=row>1307</th><td>1307</td><td>3</td><td>0</td><td>Zakarian, Mr. Mapriededer</td><td>male  </td><td>26.5</td><td>0</td><td>0</td><td>2656  </td><td>7.225  </td><td>?</td><td>C</td><td>?</td></tr>\n",
       "\t<tr><th scope=row>1308</th><td>1308</td><td>3</td><td>0</td><td>Zakarian, Mr. Ortin      </td><td>male  </td><td>27  </td><td>0</td><td>0</td><td>2670  </td><td>7.225  </td><td>?</td><td>C</td><td>?</td></tr>\n",
       "\t<tr><th scope=row>1309</th><td>1309</td><td>3</td><td>0</td><td>Zimmerman, Mr. Leo       </td><td>male  </td><td>29  </td><td>0</td><td>0</td><td>315082</td><td>7.875  </td><td>?</td><td>S</td><td>?</td></tr>\n",
       "</tbody>\n",
       "</table>\n"
      ],
      "text/latex": [
       "A data.frame: 6 × 13\n",
       "\\begin{tabular}{r|lllllllllllll}\n",
       "  & x & pclass & survived & name & sex & age & sibsp & parch & ticket & fare & cabin & embarked & home.dest\\\\\n",
       "  & <int> & <int> & <int> & <fct> & <fct> & <fct> & <int> & <int> & <fct> & <fct> & <fct> & <fct> & <fct>\\\\\n",
       "\\hline\n",
       "\t1304 & 1304 & 3 & 0 & Yousseff, Mr. Gerious     & male   & ?    & 0 & 0 & 2627   & 14.4583 & ? & C & ?\\\\\n",
       "\t1305 & 1305 & 3 & 0 & Zabour, Miss. Hileni      & female & 14.5 & 1 & 0 & 2665   & 14.4542 & ? & C & ?\\\\\n",
       "\t1306 & 1306 & 3 & 0 & Zabour, Miss. Thamine     & female & ?    & 1 & 0 & 2665   & 14.4542 & ? & C & ?\\\\\n",
       "\t1307 & 1307 & 3 & 0 & Zakarian, Mr. Mapriededer & male   & 26.5 & 0 & 0 & 2656   & 7.225   & ? & C & ?\\\\\n",
       "\t1308 & 1308 & 3 & 0 & Zakarian, Mr. Ortin       & male   & 27   & 0 & 0 & 2670   & 7.225   & ? & C & ?\\\\\n",
       "\t1309 & 1309 & 3 & 0 & Zimmerman, Mr. Leo        & male   & 29   & 0 & 0 & 315082 & 7.875   & ? & S & ?\\\\\n",
       "\\end{tabular}\n"
      ],
      "text/markdown": [
       "\n",
       "A data.frame: 6 × 13\n",
       "\n",
       "| <!--/--> | x &lt;int&gt; | pclass &lt;int&gt; | survived &lt;int&gt; | name &lt;fct&gt; | sex &lt;fct&gt; | age &lt;fct&gt; | sibsp &lt;int&gt; | parch &lt;int&gt; | ticket &lt;fct&gt; | fare &lt;fct&gt; | cabin &lt;fct&gt; | embarked &lt;fct&gt; | home.dest &lt;fct&gt; |\n",
       "|---|---|---|---|---|---|---|---|---|---|---|---|---|---|\n",
       "| 1304 | 1304 | 3 | 0 | Yousseff, Mr. Gerious     | male   | ?    | 0 | 0 | 2627   | 14.4583 | ? | C | ? |\n",
       "| 1305 | 1305 | 3 | 0 | Zabour, Miss. Hileni      | female | 14.5 | 1 | 0 | 2665   | 14.4542 | ? | C | ? |\n",
       "| 1306 | 1306 | 3 | 0 | Zabour, Miss. Thamine     | female | ?    | 1 | 0 | 2665   | 14.4542 | ? | C | ? |\n",
       "| 1307 | 1307 | 3 | 0 | Zakarian, Mr. Mapriededer | male   | 26.5 | 0 | 0 | 2656   | 7.225   | ? | C | ? |\n",
       "| 1308 | 1308 | 3 | 0 | Zakarian, Mr. Ortin       | male   | 27   | 0 | 0 | 2670   | 7.225   | ? | C | ? |\n",
       "| 1309 | 1309 | 3 | 0 | Zimmerman, Mr. Leo        | male   | 29   | 0 | 0 | 315082 | 7.875   | ? | S | ? |\n",
       "\n"
      ],
      "text/plain": [
       "     x    pclass survived name                      sex    age  sibsp parch\n",
       "1304 1304 3      0        Yousseff, Mr. Gerious     male   ?    0     0    \n",
       "1305 1305 3      0        Zabour, Miss. Hileni      female 14.5 1     0    \n",
       "1306 1306 3      0        Zabour, Miss. Thamine     female ?    1     0    \n",
       "1307 1307 3      0        Zakarian, Mr. Mapriededer male   26.5 0     0    \n",
       "1308 1308 3      0        Zakarian, Mr. Ortin       male   27   0     0    \n",
       "1309 1309 3      0        Zimmerman, Mr. Leo        male   29   0     0    \n",
       "     ticket fare    cabin embarked home.dest\n",
       "1304 2627   14.4583 ?     C        ?        \n",
       "1305 2665   14.4542 ?     C        ?        \n",
       "1306 2665   14.4542 ?     C        ?        \n",
       "1307 2656   7.225   ?     C        ?        \n",
       "1308 2670   7.225   ?     C        ?        \n",
       "1309 315082 7.875   ?     S        ?        "
      ]
     },
     "metadata": {},
     "output_type": "display_data"
    }
   ],
   "source": [
    "#last 6 rows of dataset\n",
    "tail(dataset)"
   ]
  },
  {
   "cell_type": "code",
   "execution_count": 8,
   "metadata": {},
   "outputs": [
    {
     "name": "stdout",
     "output_type": "stream",
     "text": [
      "'data.frame':\t1309 obs. of  13 variables:\n",
      " $ x        : int  1 2 3 4 5 6 7 8 9 10 ...\n",
      " $ pclass   : int  1 1 1 1 1 1 1 1 1 1 ...\n",
      " $ survived : int  1 1 0 0 0 1 1 0 1 0 ...\n",
      " $ name     : Factor w/ 1307 levels \"Abbing, Mr. Anthony\",..: 22 24 25 26 27 31 46 47 51 55 ...\n",
      " $ sex      : Factor w/ 2 levels \"female\",\"male\": 1 2 1 2 1 2 1 2 1 2 ...\n",
      " $ age      : Factor w/ 99 levels \"?\",\"0.1667\",\"0.3333\",..: 39 8 23 41 33 67 86 55 73 94 ...\n",
      " $ sibsp    : int  0 1 1 1 1 0 1 0 2 0 ...\n",
      " $ parch    : int  0 2 2 2 2 0 0 0 0 0 ...\n",
      " $ ticket   : Factor w/ 929 levels \"110152\",\"110413\",..: 188 50 50 50 50 125 93 16 77 826 ...\n",
      " $ fare     : Factor w/ 282 levels \"?\",\"0\",\"10.1708\",..: 79 58 58 58 58 103 236 2 157 153 ...\n",
      " $ cabin    : Factor w/ 187 levels \"?\",\"A10\",\"A11\",..: 45 81 81 81 81 151 147 17 63 1 ...\n",
      " $ embarked : Factor w/ 4 levels \"?\",\"C\",\"Q\",\"S\": 4 4 4 4 4 4 4 4 4 2 ...\n",
      " $ home.dest: Factor w/ 370 levels \"?\",\"?Havana, Cuba\",..: 310 232 232 232 232 238 163 25 23 230 ...\n"
     ]
    }
   ],
   "source": [
    "#describe the structure of dataset\n",
    "str(dataset)"
   ]
  },
  {
   "cell_type": "code",
   "execution_count": 9,
   "metadata": {},
   "outputs": [
    {
     "data": {
      "text/plain": [
       "       x            pclass         survived    \n",
       " Min.   :   1   Min.   :1.000   Min.   :0.000  \n",
       " 1st Qu.: 328   1st Qu.:2.000   1st Qu.:0.000  \n",
       " Median : 655   Median :3.000   Median :0.000  \n",
       " Mean   : 655   Mean   :2.295   Mean   :0.382  \n",
       " 3rd Qu.: 982   3rd Qu.:3.000   3rd Qu.:1.000  \n",
       " Max.   :1309   Max.   :3.000   Max.   :1.000  \n",
       "                                               \n",
       "                               name          sex           age     \n",
       " Connolly, Miss. Kate            :   2   female:466   ?      :263  \n",
       " Kelly, Mr. James                :   2   male  :843   24     : 47  \n",
       " Abbing, Mr. Anthony             :   1                22     : 43  \n",
       " Abbott, Master. Eugene Joseph   :   1                21     : 41  \n",
       " Abbott, Mr. Rossmore Edward     :   1                30     : 40  \n",
       " Abbott, Mrs. Stanton (Rosa Hunt):   1                18     : 39  \n",
       " (Other)                         :1301                (Other):836  \n",
       "     sibsp            parch            ticket          fare     \n",
       " Min.   :0.0000   Min.   :0.000   CA. 2343:  11   8.05   :  60  \n",
       " 1st Qu.:0.0000   1st Qu.:0.000   1601    :   8   13     :  59  \n",
       " Median :0.0000   Median :0.000   CA 2144 :   8   7.75   :  55  \n",
       " Mean   :0.4989   Mean   :0.385   3101295 :   7   26     :  50  \n",
       " 3rd Qu.:1.0000   3rd Qu.:0.000   347077  :   7   7.8958 :  49  \n",
       " Max.   :8.0000   Max.   :9.000   347082  :   7   10.5   :  35  \n",
       "                                  (Other) :1261   (Other):1001  \n",
       "             cabin      embarked                home.dest  \n",
       " ?              :1014   ?:  2    ?                   :564  \n",
       " C23 C25 C27    :   6   C:270    New York, NY        : 64  \n",
       " B57 B59 B63 B66:   5   Q:123    London              : 14  \n",
       " G6             :   5   S:914    Montreal, PQ        : 10  \n",
       " B96 B98        :   4            Cornwall / Akron, OH:  9  \n",
       " C22 C26        :   4            Paris, France       :  9  \n",
       " (Other)        : 271            (Other)             :639  "
      ]
     },
     "metadata": {},
     "output_type": "display_data"
    }
   ],
   "source": [
    "#summary of dataset\n",
    "summary(dataset)"
   ]
  },
  {
   "cell_type": "code",
   "execution_count": 10,
   "metadata": {},
   "outputs": [],
   "source": [
    "#set the seed of random number generator\n",
    "set.seed(678)"
   ]
  },
  {
   "cell_type": "code",
   "execution_count": 13,
   "metadata": {},
   "outputs": [],
   "source": [
    "#shuffle the rows of dataset\n",
    "shuffel_index =sample(1:nrow(dataset))"
   ]
  },
  {
   "cell_type": "code",
   "execution_count": 14,
   "metadata": {},
   "outputs": [],
   "source": [
    "dataset = dataset[shuffel_index,]"
   ]
  },
  {
   "cell_type": "code",
   "execution_count": 16,
   "metadata": {},
   "outputs": [
    {
     "data": {
      "text/html": [
       "<style>\n",
       ".list-inline {list-style: none; margin:0; padding: 0}\n",
       ".list-inline>li {display: inline-block}\n",
       ".list-inline>li:not(:last-child)::after {content: \"\\00b7\"; padding: 0 .5ex}\n",
       "</style>\n",
       "<ol class=list-inline><li>1309</li><li>13</li></ol>\n"
      ],
      "text/latex": [
       "\\begin{enumerate*}\n",
       "\\item 1309\n",
       "\\item 13\n",
       "\\end{enumerate*}\n"
      ],
      "text/markdown": [
       "1. 1309\n",
       "2. 13\n",
       "\n",
       "\n"
      ],
      "text/plain": [
       "[1] 1309   13"
      ]
     },
     "metadata": {},
     "output_type": "display_data"
    }
   ],
   "source": [
    "#display the dimension of dataset\n",
    "dim(dataset)"
   ]
  },
  {
   "cell_type": "code",
   "execution_count": 55,
   "metadata": {},
   "outputs": [],
   "source": [
    "#iport the library dplyr for cleaning the dataset\n",
    "library(dplyr)"
   ]
  },
  {
   "cell_type": "code",
   "execution_count": 39,
   "metadata": {},
   "outputs": [],
   "source": [
    "#use the pipe sysmbol for filter the data\n",
    "cleaneddata =dataset %>% select(-c(x,age,name,ticket,cabin,home.dest)) %>%  \n",
    "                        mutate(pclass=factor(pclass,levels = c(1,2,3),\n",
    "                       labels = c(\"Upper\",\"Middle\",\"Lower\")),\n",
    "                       survived=factor(survived,levels = c(0,1),labels = c(\"No\",\"Yes\"))) %>%na.omit()\n"
   ]
  },
  {
   "cell_type": "code",
   "execution_count": 40,
   "metadata": {},
   "outputs": [
    {
     "data": {
      "text/html": [
       "<table>\n",
       "<caption>A data.frame: 6 × 7</caption>\n",
       "<thead>\n",
       "\t<tr><th></th><th scope=col>pclass</th><th scope=col>survived</th><th scope=col>sex</th><th scope=col>sibsp</th><th scope=col>parch</th><th scope=col>fare</th><th scope=col>embarked</th></tr>\n",
       "\t<tr><th></th><th scope=col>&lt;fct&gt;</th><th scope=col>&lt;fct&gt;</th><th scope=col>&lt;fct&gt;</th><th scope=col>&lt;int&gt;</th><th scope=col>&lt;int&gt;</th><th scope=col>&lt;fct&gt;</th><th scope=col>&lt;fct&gt;</th></tr>\n",
       "</thead>\n",
       "<tbody>\n",
       "\t<tr><th scope=row>1</th><td>Upper </td><td>Yes</td><td>female</td><td>1</td><td>0</td><td>113.275</td><td>C</td></tr>\n",
       "\t<tr><th scope=row>2</th><td>Upper </td><td>Yes</td><td>female</td><td>0</td><td>0</td><td>69.3   </td><td>C</td></tr>\n",
       "\t<tr><th scope=row>3</th><td>Lower </td><td>Yes</td><td>male  </td><td>1</td><td>1</td><td>15.2458</td><td>C</td></tr>\n",
       "\t<tr><th scope=row>4</th><td>Middle</td><td>No </td><td>male  </td><td>1</td><td>0</td><td>26     </td><td>S</td></tr>\n",
       "\t<tr><th scope=row>5</th><td>Upper </td><td>Yes</td><td>male  </td><td>1</td><td>0</td><td>76.7292</td><td>C</td></tr>\n",
       "\t<tr><th scope=row>6</th><td>Lower </td><td>Yes</td><td>male  </td><td>0</td><td>0</td><td>7.925  </td><td>S</td></tr>\n",
       "</tbody>\n",
       "</table>\n"
      ],
      "text/latex": [
       "A data.frame: 6 × 7\n",
       "\\begin{tabular}{r|lllllll}\n",
       "  & pclass & survived & sex & sibsp & parch & fare & embarked\\\\\n",
       "  & <fct> & <fct> & <fct> & <int> & <int> & <fct> & <fct>\\\\\n",
       "\\hline\n",
       "\t1 & Upper  & Yes & female & 1 & 0 & 113.275 & C\\\\\n",
       "\t2 & Upper  & Yes & female & 0 & 0 & 69.3    & C\\\\\n",
       "\t3 & Lower  & Yes & male   & 1 & 1 & 15.2458 & C\\\\\n",
       "\t4 & Middle & No  & male   & 1 & 0 & 26      & S\\\\\n",
       "\t5 & Upper  & Yes & male   & 1 & 0 & 76.7292 & C\\\\\n",
       "\t6 & Lower  & Yes & male   & 0 & 0 & 7.925   & S\\\\\n",
       "\\end{tabular}\n"
      ],
      "text/markdown": [
       "\n",
       "A data.frame: 6 × 7\n",
       "\n",
       "| <!--/--> | pclass &lt;fct&gt; | survived &lt;fct&gt; | sex &lt;fct&gt; | sibsp &lt;int&gt; | parch &lt;int&gt; | fare &lt;fct&gt; | embarked &lt;fct&gt; |\n",
       "|---|---|---|---|---|---|---|---|\n",
       "| 1 | Upper  | Yes | female | 1 | 0 | 113.275 | C |\n",
       "| 2 | Upper  | Yes | female | 0 | 0 | 69.3    | C |\n",
       "| 3 | Lower  | Yes | male   | 1 | 1 | 15.2458 | C |\n",
       "| 4 | Middle | No  | male   | 1 | 0 | 26      | S |\n",
       "| 5 | Upper  | Yes | male   | 1 | 0 | 76.7292 | C |\n",
       "| 6 | Lower  | Yes | male   | 0 | 0 | 7.925   | S |\n",
       "\n"
      ],
      "text/plain": [
       "  pclass survived sex    sibsp parch fare    embarked\n",
       "1 Upper  Yes      female 1     0     113.275 C       \n",
       "2 Upper  Yes      female 0     0     69.3    C       \n",
       "3 Lower  Yes      male   1     1     15.2458 C       \n",
       "4 Middle No       male   1     0     26      S       \n",
       "5 Upper  Yes      male   1     0     76.7292 C       \n",
       "6 Lower  Yes      male   0     0     7.925   S       "
      ]
     },
     "metadata": {},
     "output_type": "display_data"
    }
   ],
   "source": [
    "#first 6 rows of cleaned data\n",
    "head(cleaneddata)"
   ]
  },
  {
   "cell_type": "code",
   "execution_count": 41,
   "metadata": {},
   "outputs": [
    {
     "data": {
      "text/plain": [
       "\n",
       " Upper Middle  Lower \n",
       "   323    277    709 "
      ]
     },
     "metadata": {},
     "output_type": "display_data"
    }
   ],
   "source": [
    "#display passenger class attribute categorical value and its frequency\n",
    "table(cleaneddata$pclass)"
   ]
  },
  {
   "cell_type": "code",
   "execution_count": 42,
   "metadata": {},
   "outputs": [
    {
     "data": {
      "text/plain": [
       "\n",
       " No Yes \n",
       "809 500 "
      ]
     },
     "metadata": {},
     "output_type": "display_data"
    }
   ],
   "source": [
    "#display the survived attribute categorical value and its frequency\n",
    "table(cleaneddata$survived)"
   ]
  },
  {
   "cell_type": "code",
   "execution_count": 43,
   "metadata": {},
   "outputs": [
    {
     "name": "stdout",
     "output_type": "stream",
     "text": [
      "'data.frame':\t1309 obs. of  7 variables:\n",
      " $ pclass  : Factor w/ 3 levels \"Upper\",\"Middle\",..: 1 1 3 2 1 3 2 3 1 3 ...\n",
      " $ survived: Factor w/ 2 levels \"No\",\"Yes\": 2 2 2 1 2 2 2 2 2 1 ...\n",
      " $ sex     : Factor w/ 2 levels \"female\",\"male\": 1 1 2 2 2 2 1 1 1 1 ...\n",
      " $ sibsp   : int  1 0 1 1 1 0 1 0 0 4 ...\n",
      " $ parch   : int  0 0 1 0 0 0 0 0 2 2 ...\n",
      " $ fare    : Factor w/ 282 levels \"?\",\"0\",\"10.1708\",..: 14 187 50 98 234 227 98 227 100 123 ...\n",
      " $ embarked: Factor w/ 4 levels \"?\",\"C\",\"Q\",\"S\": 2 2 2 4 2 4 4 4 4 4 ...\n"
     ]
    }
   ],
   "source": [
    "#display the structure of cleaned data\n",
    "str(cleaneddata)"
   ]
  },
  {
   "cell_type": "code",
   "execution_count": 28,
   "metadata": {},
   "outputs": [
    {
     "name": "stderr",
     "output_type": "stream",
     "text": [
      "Installing package into ‘/srv/rlibs’\n",
      "(as ‘lib’ is unspecified)\n"
     ]
    }
   ],
   "source": [
    "#install the package caTools\n",
    "install.packages('caTools')\n"
   ]
  },
  {
   "cell_type": "code",
   "execution_count": 26,
   "metadata": {},
   "outputs": [],
   "source": [
    "library(caTools)"
   ]
  },
  {
   "cell_type": "code",
   "execution_count": 44,
   "metadata": {},
   "outputs": [],
   "source": [
    "#split the data based on survived attribute\n",
    "split = sample.split(cleaneddata$survived,\n",
    "                     SplitRatio = 0.8)"
   ]
  },
  {
   "cell_type": "code",
   "execution_count": 45,
   "metadata": {},
   "outputs": [],
   "source": [
    "#train data\n",
    "train_data =subset(cleaneddata, split==TRUE)"
   ]
  },
  {
   "cell_type": "code",
   "execution_count": 46,
   "metadata": {},
   "outputs": [],
   "source": [
    "#test_data\n",
    "test_data =subset(cleaneddata, split==FALSE)"
   ]
  },
  {
   "cell_type": "code",
   "execution_count": 47,
   "metadata": {},
   "outputs": [
    {
     "data": {
      "text/html": [
       "<table>\n",
       "<caption>A data.frame: 6 × 7</caption>\n",
       "<thead>\n",
       "\t<tr><th></th><th scope=col>pclass</th><th scope=col>survived</th><th scope=col>sex</th><th scope=col>sibsp</th><th scope=col>parch</th><th scope=col>fare</th><th scope=col>embarked</th></tr>\n",
       "\t<tr><th></th><th scope=col>&lt;fct&gt;</th><th scope=col>&lt;fct&gt;</th><th scope=col>&lt;fct&gt;</th><th scope=col>&lt;int&gt;</th><th scope=col>&lt;int&gt;</th><th scope=col>&lt;fct&gt;</th><th scope=col>&lt;fct&gt;</th></tr>\n",
       "</thead>\n",
       "<tbody>\n",
       "\t<tr><th scope=row>2</th><td>Upper </td><td>Yes</td><td>female</td><td>0</td><td>0</td><td>69.3   </td><td>C</td></tr>\n",
       "\t<tr><th scope=row>3</th><td>Lower </td><td>Yes</td><td>male  </td><td>1</td><td>1</td><td>15.2458</td><td>C</td></tr>\n",
       "\t<tr><th scope=row>4</th><td>Middle</td><td>No </td><td>male  </td><td>1</td><td>0</td><td>26     </td><td>S</td></tr>\n",
       "\t<tr><th scope=row>5</th><td>Upper </td><td>Yes</td><td>male  </td><td>1</td><td>0</td><td>76.7292</td><td>C</td></tr>\n",
       "\t<tr><th scope=row>6</th><td>Lower </td><td>Yes</td><td>male  </td><td>0</td><td>0</td><td>7.925  </td><td>S</td></tr>\n",
       "\t<tr><th scope=row>7</th><td>Middle</td><td>Yes</td><td>female</td><td>1</td><td>0</td><td>26     </td><td>S</td></tr>\n",
       "</tbody>\n",
       "</table>\n"
      ],
      "text/latex": [
       "A data.frame: 6 × 7\n",
       "\\begin{tabular}{r|lllllll}\n",
       "  & pclass & survived & sex & sibsp & parch & fare & embarked\\\\\n",
       "  & <fct> & <fct> & <fct> & <int> & <int> & <fct> & <fct>\\\\\n",
       "\\hline\n",
       "\t2 & Upper  & Yes & female & 0 & 0 & 69.3    & C\\\\\n",
       "\t3 & Lower  & Yes & male   & 1 & 1 & 15.2458 & C\\\\\n",
       "\t4 & Middle & No  & male   & 1 & 0 & 26      & S\\\\\n",
       "\t5 & Upper  & Yes & male   & 1 & 0 & 76.7292 & C\\\\\n",
       "\t6 & Lower  & Yes & male   & 0 & 0 & 7.925   & S\\\\\n",
       "\t7 & Middle & Yes & female & 1 & 0 & 26      & S\\\\\n",
       "\\end{tabular}\n"
      ],
      "text/markdown": [
       "\n",
       "A data.frame: 6 × 7\n",
       "\n",
       "| <!--/--> | pclass &lt;fct&gt; | survived &lt;fct&gt; | sex &lt;fct&gt; | sibsp &lt;int&gt; | parch &lt;int&gt; | fare &lt;fct&gt; | embarked &lt;fct&gt; |\n",
       "|---|---|---|---|---|---|---|---|\n",
       "| 2 | Upper  | Yes | female | 0 | 0 | 69.3    | C |\n",
       "| 3 | Lower  | Yes | male   | 1 | 1 | 15.2458 | C |\n",
       "| 4 | Middle | No  | male   | 1 | 0 | 26      | S |\n",
       "| 5 | Upper  | Yes | male   | 1 | 0 | 76.7292 | C |\n",
       "| 6 | Lower  | Yes | male   | 0 | 0 | 7.925   | S |\n",
       "| 7 | Middle | Yes | female | 1 | 0 | 26      | S |\n",
       "\n"
      ],
      "text/plain": [
       "  pclass survived sex    sibsp parch fare    embarked\n",
       "2 Upper  Yes      female 0     0     69.3    C       \n",
       "3 Lower  Yes      male   1     1     15.2458 C       \n",
       "4 Middle No       male   1     0     26      S       \n",
       "5 Upper  Yes      male   1     0     76.7292 C       \n",
       "6 Lower  Yes      male   0     0     7.925   S       \n",
       "7 Middle Yes      female 1     0     26      S       "
      ]
     },
     "metadata": {},
     "output_type": "display_data"
    }
   ],
   "source": [
    "#first 6 rows of train_data\n",
    "head(train_data)"
   ]
  },
  {
   "cell_type": "code",
   "execution_count": 48,
   "metadata": {},
   "outputs": [
    {
     "data": {
      "text/html": [
       "<table>\n",
       "<caption>A data.frame: 6 × 7</caption>\n",
       "<thead>\n",
       "\t<tr><th></th><th scope=col>pclass</th><th scope=col>survived</th><th scope=col>sex</th><th scope=col>sibsp</th><th scope=col>parch</th><th scope=col>fare</th><th scope=col>embarked</th></tr>\n",
       "\t<tr><th></th><th scope=col>&lt;fct&gt;</th><th scope=col>&lt;fct&gt;</th><th scope=col>&lt;fct&gt;</th><th scope=col>&lt;int&gt;</th><th scope=col>&lt;int&gt;</th><th scope=col>&lt;fct&gt;</th><th scope=col>&lt;fct&gt;</th></tr>\n",
       "</thead>\n",
       "<tbody>\n",
       "\t<tr><th scope=row>1</th><td>Upper </td><td>Yes</td><td>female</td><td>1</td><td>0</td><td>113.275</td><td>C</td></tr>\n",
       "\t<tr><th scope=row>12</th><td>Upper </td><td>No </td><td>male  </td><td>0</td><td>0</td><td>93.5   </td><td>S</td></tr>\n",
       "\t<tr><th scope=row>14</th><td>Middle</td><td>No </td><td>male  </td><td>0</td><td>0</td><td>13     </td><td>S</td></tr>\n",
       "\t<tr><th scope=row>17</th><td>Lower </td><td>No </td><td>female</td><td>0</td><td>0</td><td>10.5167</td><td>S</td></tr>\n",
       "\t<tr><th scope=row>20</th><td>Upper </td><td>Yes</td><td>male  </td><td>1</td><td>1</td><td>81.8583</td><td>S</td></tr>\n",
       "\t<tr><th scope=row>23</th><td>Upper </td><td>Yes</td><td>female</td><td>1</td><td>0</td><td>89.1042</td><td>C</td></tr>\n",
       "</tbody>\n",
       "</table>\n"
      ],
      "text/latex": [
       "A data.frame: 6 × 7\n",
       "\\begin{tabular}{r|lllllll}\n",
       "  & pclass & survived & sex & sibsp & parch & fare & embarked\\\\\n",
       "  & <fct> & <fct> & <fct> & <int> & <int> & <fct> & <fct>\\\\\n",
       "\\hline\n",
       "\t1 & Upper  & Yes & female & 1 & 0 & 113.275 & C\\\\\n",
       "\t12 & Upper  & No  & male   & 0 & 0 & 93.5    & S\\\\\n",
       "\t14 & Middle & No  & male   & 0 & 0 & 13      & S\\\\\n",
       "\t17 & Lower  & No  & female & 0 & 0 & 10.5167 & S\\\\\n",
       "\t20 & Upper  & Yes & male   & 1 & 1 & 81.8583 & S\\\\\n",
       "\t23 & Upper  & Yes & female & 1 & 0 & 89.1042 & C\\\\\n",
       "\\end{tabular}\n"
      ],
      "text/markdown": [
       "\n",
       "A data.frame: 6 × 7\n",
       "\n",
       "| <!--/--> | pclass &lt;fct&gt; | survived &lt;fct&gt; | sex &lt;fct&gt; | sibsp &lt;int&gt; | parch &lt;int&gt; | fare &lt;fct&gt; | embarked &lt;fct&gt; |\n",
       "|---|---|---|---|---|---|---|---|\n",
       "| 1 | Upper  | Yes | female | 1 | 0 | 113.275 | C |\n",
       "| 12 | Upper  | No  | male   | 0 | 0 | 93.5    | S |\n",
       "| 14 | Middle | No  | male   | 0 | 0 | 13      | S |\n",
       "| 17 | Lower  | No  | female | 0 | 0 | 10.5167 | S |\n",
       "| 20 | Upper  | Yes | male   | 1 | 1 | 81.8583 | S |\n",
       "| 23 | Upper  | Yes | female | 1 | 0 | 89.1042 | C |\n",
       "\n"
      ],
      "text/plain": [
       "   pclass survived sex    sibsp parch fare    embarked\n",
       "1  Upper  Yes      female 1     0     113.275 C       \n",
       "12 Upper  No       male   0     0     93.5    S       \n",
       "14 Middle No       male   0     0     13      S       \n",
       "17 Lower  No       female 0     0     10.5167 S       \n",
       "20 Upper  Yes      male   1     1     81.8583 S       \n",
       "23 Upper  Yes      female 1     0     89.1042 C       "
      ]
     },
     "metadata": {},
     "output_type": "display_data"
    }
   ],
   "source": [
    "#first 6 rows of test_data\n",
    "head(test_data)"
   ]
  },
  {
   "cell_type": "code",
   "execution_count": 33,
   "metadata": {},
   "outputs": [],
   "source": [
    "library(rpart)"
   ]
  },
  {
   "cell_type": "code",
   "execution_count": 49,
   "metadata": {},
   "outputs": [],
   "source": [
    "#Build the model\n",
    "model <- rpart(survived~pclass+sex+embarked,\n",
    "               data = train_data,\n",
    "               method = 'class')"
   ]
  },
  {
   "cell_type": "code",
   "execution_count": 36,
   "metadata": {},
   "outputs": [
    {
     "name": "stderr",
     "output_type": "stream",
     "text": [
      "Installing package into ‘/srv/rlibs’\n",
      "(as ‘lib’ is unspecified)\n"
     ]
    }
   ],
   "source": [
    "install.packages('rpart.plot')\n"
   ]
  },
  {
   "cell_type": "code",
   "execution_count": 37,
   "metadata": {},
   "outputs": [],
   "source": [
    "library(rpart.plot)"
   ]
  },
  {
   "cell_type": "code",
   "execution_count": 50,
   "metadata": {},
   "outputs": [
    {
     "data": {
      "image/png": "[encoded data removed]",
      "text/plain": [
       "plot without title"
      ]
     },
     "metadata": {},
     "output_type": "display_data"
    }
   ],
   "source": [
    "#plot the model\n",
    "rpart.plot(model)"
   ]
  },
  {
   "cell_type": "code",
   "execution_count": 51,
   "metadata": {},
   "outputs": [
    {
     "name": "stdout",
     "output_type": "stream",
     "text": [
      "Call:\n",
      "rpart(formula = survived ~ pclass + sex + embarked, data = train_data, \n",
      "    method = \"class\")\n",
      "  n= 1047 \n",
      "\n",
      "    CP nsplit rel error xerror       xstd\n",
      "1 0.41      0      1.00   1.00 0.03930509\n",
      "2 0.03      1      0.59   0.59 0.03380128\n",
      "3 0.01      3      0.53   0.53 0.03250707\n",
      "\n",
      "Variable importance\n",
      "     sex   pclass embarked \n",
      "      70       21        9 \n",
      "\n",
      "Node number 1: 1047 observations,    complexity param=0.41\n",
      "  predicted class=No   expected loss=0.3820439  P(node) =1\n",
      "    class counts:   647   400\n",
      "   probabilities: 0.618 0.382 \n",
      "  left son=2 (673 obs) right son=3 (374 obs)\n",
      "  Primary splits:\n",
      "      sex      splits as  RL,   improve=132.32060, (0 missing)\n",
      "      pclass   splits as  RRL,  improve= 38.08632, (0 missing)\n",
      "      embarked splits as  RRLL, improve= 13.67990, (0 missing)\n",
      "  Surrogate splits:\n",
      "      embarked splits as  RLRL, agree=0.649, adj=0.019, (0 split)\n",
      "\n",
      "Node number 2: 673 observations\n",
      "  predicted class=No   expected loss=0.1946508  P(node) =0.6427889\n",
      "    class counts:   542   131\n",
      "   probabilities: 0.805 0.195 \n",
      "\n",
      "Node number 3: 374 observations,    complexity param=0.03\n",
      "  predicted class=Yes  expected loss=0.2807487  P(node) =0.3572111\n",
      "    class counts:   105   269\n",
      "   probabilities: 0.281 0.719 \n",
      "  left son=6 (180 obs) right son=7 (194 obs)\n",
      "  Primary splits:\n",
      "      pclass   splits as  RRL,  improve=38.627320, (0 missing)\n",
      "      embarked splits as  RRLL, improve= 5.038628, (0 missing)\n",
      "  Surrogate splits:\n",
      "      embarked splits as  RRLR, agree=0.642, adj=0.256, (0 split)\n",
      "\n",
      "Node number 6: 180 observations,    complexity param=0.03\n",
      "  predicted class=No   expected loss=0.4833333  P(node) =0.1719198\n",
      "    class counts:    93    87\n",
      "   probabilities: 0.517 0.483 \n",
      "  left son=12 (106 obs) right son=13 (74 obs)\n",
      "  Primary splits:\n",
      "      embarked splits as  -RRL, improve=4.80617, (0 missing)\n",
      "\n",
      "Node number 7: 194 observations\n",
      "  predicted class=Yes  expected loss=0.06185567  P(node) =0.1852913\n",
      "    class counts:    12   182\n",
      "   probabilities: 0.062 0.938 \n",
      "\n",
      "Node number 12: 106 observations\n",
      "  predicted class=No   expected loss=0.3867925  P(node) =0.1012416\n",
      "    class counts:    65    41\n",
      "   probabilities: 0.613 0.387 \n",
      "\n",
      "Node number 13: 74 observations\n",
      "  predicted class=Yes  expected loss=0.3783784  P(node) =0.07067813\n",
      "    class counts:    28    46\n",
      "   probabilities: 0.378 0.622 \n",
      "\n"
     ]
    }
   ],
   "source": [
    "#summarize the model\n",
    "summary(model)"
   ]
  },
  {
   "cell_type": "code",
   "execution_count": 52,
   "metadata": {},
   "outputs": [],
   "source": [
    "#predict the model\n",
    "predicted_data <-predict(object = model,newdata=test_data,type='class')"
   ]
  },
  {
   "cell_type": "code",
   "execution_count": 53,
   "metadata": {},
   "outputs": [],
   "source": [
    "#confusion matrix \n",
    "table_mat= table(test_data$survived,\n",
    "                 predicted_data)"
   ]
  },
  {
   "cell_type": "code",
   "execution_count": 54,
   "metadata": {},
   "outputs": [
    {
     "data": {
      "text/html": [
       "0.812977099236641"
      ],
      "text/latex": [
       "0.812977099236641"
      ],
      "text/markdown": [
       "0.812977099236641"
      ],
      "text/plain": [
       "[1] 0.8129771"
      ]
     },
     "metadata": {},
     "output_type": "display_data"
    }
   ],
   "source": [
    "#Accuracy\n",
    "sum(diag(table_mat))/sum(table_mat)\n"
   ]
  }
 ],
 "metadata": {
  "kernelspec": {
   "display_name": "R",
   "language": "R",
   "name": "ir"
  },
  "language_info": {
   "codemirror_mode": "r",
   "file_extension": ".r",
   "mimetype": "text/x-r-source",
   "name": "R",
   "pygments_lexer": "r",
   "version": "3.6.2"
  }
 },
 "nbformat": 4,
 "nbformat_minor": 4
}
